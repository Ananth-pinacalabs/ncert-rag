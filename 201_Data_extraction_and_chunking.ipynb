{
 "cells": [
  {
   "cell_type": "markdown",
   "metadata": {},
   "source": [
    "**Areas to test:**\n",
    "\n",
    "1. Accuracy / quality of retrieved data  \n",
    "2. Latency\n",
    "3. Handling images\n",
    "4. Handling tables\n",
    "\n",
    "**The baseline:**\n",
    "\n",
    "1.  Load the document using pypdf and load the text chunks.\n"
   ]
  },
  {
   "cell_type": "code",
   "execution_count": null,
   "metadata": {},
   "outputs": [],
   "source": []
  }
 ],
 "metadata": {
  "language_info": {
   "name": "python"
  }
 },
 "nbformat": 4,
 "nbformat_minor": 2
}
